{
 "cells": [
  {
   "cell_type": "code",
   "execution_count": 6,
   "metadata": {},
   "outputs": [
    {
     "name": "stdout",
     "output_type": "stream",
     "text": [
      "(506, 13) (506,)\n"
     ]
    }
   ],
   "source": [
    "import numpy as np\n",
    "import math\n",
    "import matplotlib.pyplot as plt\n",
    "\n",
    "from numpy import linalg\n",
    "\n",
    "from sklearn.datasets import load_boston\n",
    "\n",
    "data, targets = load_boston(return_X_y=True)\n",
    "targets = np.array(targets)\n",
    "print(data.shape, targets.shape)"
   ]
  },
  {
   "cell_type": "code",
   "execution_count": 2,
   "metadata": {},
   "outputs": [],
   "source": [
    "# Cross validation setup\n",
    "indices = np.arange(len(targets))\n",
    "np.random.shuffle(indices)\n",
    "splits = np.array_split(indices, 5)"
   ]
  },
  {
   "cell_type": "code",
   "execution_count": 3,
   "metadata": {},
   "outputs": [
    {
     "name": "stdout",
     "output_type": "stream",
     "text": [
      "Average prediction error: 3.3588043839\n"
     ]
    }
   ],
   "source": [
    "# Least squares regression\n",
    "\n",
    "error = 0\n",
    "for i in range(5):\n",
    "    test_data = data[splits[i],:]\n",
    "    test_targets = targets[splits[i]]\n",
    "    \n",
    "    train_data = np.delete(data, splits[i], axis=0)\n",
    "    train_targets = np.delete(targets, splits[i])\n",
    "    \n",
    "    A = np.hstack((train_data, np.ones(train_data.shape[0])[:,np.newaxis]))\n",
    "    pinv = np.linalg.inv(A.T @ A) @ A.T\n",
    "    coeffs = pinv @ train_targets\n",
    "    \n",
    "    test_A = np.hstack((test_data, np.ones(test_data.shape[0])[:,np.newaxis]))\n",
    "    test_pred = test_A @ coeffs\n",
    "    fold_err = np.average(np.abs(test_pred - test_targets))\n",
    "    error += fold_err\n",
    "\n",
    "error /= 5\n",
    "print('Average prediction error:', error)"
   ]
  },
  {
   "cell_type": "code",
   "execution_count": 4,
   "metadata": {},
   "outputs": [
    {
     "data": {
      "image/png": "[encoded data removed]",
      "text/plain": [
       "<matplotlib.figure.Figure at 0x7f46bfcd1da0>"
      ]
     },
     "metadata": {
      "needs_background": "light"
     },
     "output_type": "display_data"
    }
   ],
   "source": [
    "A = np.hstack((data, np.ones(data.shape[0])[:,np.newaxis]))\n",
    "pinv = np.linalg.inv(A.T @ A) @ A.T\n",
    "coeffs = pinv @ targets\n",
    "predictions = A @ coeffs \n",
    "\n",
    "plt.scatter(targets, predictions)\n",
    "plt.plot((0,50), (0,50), 'r')\n",
    "plt.title('Measured vs Predicted')\n",
    "plt.xlabel('Measured')\n",
    "plt.ylabel('Predicted')\n",
    "plt.show()"
   ]
  },
  {
   "cell_type": "code",
   "execution_count": 5,
   "metadata": {},
   "outputs": [
    {
     "name": "stdout",
     "output_type": "stream",
     "text": [
      "Optimal lambda: 0.23\n",
      "Final test error: 3.17364015006\n"
     ]
    }
   ],
   "source": [
    "# Ridge regression\n",
    "lambdas = [0, 0.001, 0.01, 0.1, 0.5, 1, 5, 10, 20, 100, 1000]\n",
    "lambda_errors = []\n",
    "\n",
    "final_test_data = data[splits[4]]\n",
    "final_test_targets = targets[splits[4]]\n",
    "\n",
    "for l in lambdas:\n",
    "    error = 0\n",
    "    for i in range(4):\n",
    "        test_data = data[splits[i],:]\n",
    "        test_targets = targets[splits[i]]\n",
    "\n",
    "        train_data = np.delete(data, np.concatenate((splits[i], splits[4])), axis=0)\n",
    "        train_targets = np.delete(targets, np.concatenate((splits[i], splits[4])))\n",
    "\n",
    "        A = np.hstack((train_data, np.ones(train_data.shape[0])[:,np.newaxis]))\n",
    "        pinv = np.linalg.inv(A.T @ A + l*np.eye(A.shape[1])) @ A.T\n",
    "        coeffs = pinv @ train_targets\n",
    "\n",
    "        test_A = np.hstack((test_data, np.ones(test_data.shape[0])[:,np.newaxis]))\n",
    "        test_pred = test_A @ coeffs\n",
    "        fold_err = np.average(np.abs(test_pred - test_targets))\n",
    "        error += fold_err\n",
    "    error /= 4\n",
    "    lambda_errors.append(error)\n",
    "\n",
    "# print(lambda_errors)\n",
    "\n",
    "min_error = min(lambda_errors)\n",
    "min_index = lambda_errors.index(min_error)\n",
    "lambda_start = min_error\n",
    "lambda_end = min_error\n",
    "if min_index != 0:\n",
    "    lambda_start = lambdas[min_index - 1]\n",
    "if min_index != len(lambdas) - 1:\n",
    "    lambda_end = lambdas[min_index + 1]\n",
    "\n",
    "lambdas = np.arange(lambda_start, lambda_end, 0.01)\n",
    "lambda_errors = []\n",
    "for l in lambdas:\n",
    "    error = 0\n",
    "    for i in range(4):\n",
    "        test_data = data[splits[i],:]\n",
    "        test_targets = targets[splits[i]]\n",
    "\n",
    "        train_data = np.delete(data, np.concatenate((splits[i], splits[4])), axis=0)\n",
    "        train_targets = np.delete(targets, np.concatenate((splits[i], splits[4])))\n",
    "\n",
    "        A = np.hstack((train_data, np.ones(train_data.shape[0])[:,np.newaxis]))\n",
    "        pinv = np.linalg.inv(A.T @ A + l*np.eye(A.shape[1])) @ A.T\n",
    "        coeffs = pinv @ train_targets\n",
    "\n",
    "        test_A = np.hstack((test_data, np.ones(test_data.shape[0])[:,np.newaxis]))\n",
    "        test_pred = test_A @ coeffs\n",
    "        fold_err = np.average(np.abs(test_pred - test_targets))\n",
    "        error += fold_err\n",
    "    error /= 4\n",
    "    lambda_errors.append(error)\n",
    "\n",
    "# print(lambda_errors)\n",
    "min_error = min(lambda_errors)\n",
    "min_index = lambda_errors.index(min_error)\n",
    "final_lambda = lambdas[min_index]\n",
    "print('Optimal lambda:', final_lambda)\n",
    "\n",
    "\n",
    "final_test_A = np.hstack((final_test_data, np.ones(final_test_data.shape[0])[:,np.newaxis]))\n",
    "pinv = np.linalg.inv(final_test_A.T @ final_test_A + final_lambda*np.eye(final_test_A.shape[1])) @ final_test_A.T\n",
    "coeffs = pinv @ final_test_targets\n",
    "final_test_pred = final_test_A @ coeffs\n",
    "final_test_error = np.average(np.abs(final_test_pred - final_test_targets))\n",
    "print('Final test error:', final_test_error)"
   ]
  }
 ],
 "metadata": {
  "kernelspec": {
   "display_name": "Python 3",
   "language": "python",
   "name": "python3"
  },
  "language_info": {
   "codemirror_mode": {
    "name": "ipython",
    "version": 3
   },
   "file_extension": ".py",
   "mimetype": "text/x-python",
   "name": "python",
   "nbconvert_exporter": "python",
   "pygments_lexer": "ipython3",
   "version": "3.5.2"
  }
 },
 "nbformat": 4,
 "nbformat_minor": 2
}

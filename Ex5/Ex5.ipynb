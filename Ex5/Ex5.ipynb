{
 "cells": [
  {
   "cell_type": "code",
   "execution_count": 11,
   "metadata": {},
   "outputs": [],
   "source": [
    "import numpy as np\n",
    "import math\n",
    "import matplotlib.pyplot as plt\n",
    "\n",
    "from numpy import linalg\n",
    "\n",
    "from sklearn.datasets import load_wine\n",
    "samples, labels = load_wine(return_X_y=True)\n",
    "labels = np.array(labels)"
   ]
  },
  {
   "cell_type": "code",
   "execution_count": 2,
   "metadata": {},
   "outputs": [],
   "source": [
    "# must set one of numPC or accuracy\n",
    "def pca(X, dim=None, accuracy=None):\n",
    "    u, d, v = linalg.svd(X)\n",
    "    if accuracy is not None:\n",
    "        energy = linalg.norm(X)**2\n",
    "        sumEig = 0\n",
    "        for i, eigval in enumerate(list(d)):\n",
    "            sumEig += eigval**2\n",
    "            if sumEig / energy >= accuracy:\n",
    "                dim = i + 1\n",
    "                break\n",
    "    return u[:, :dim]"
   ]
  },
  {
   "cell_type": "markdown",
   "metadata": {},
   "source": [
    "# Standardize Data"
   ]
  },
  {
   "cell_type": "code",
   "execution_count": 8,
   "metadata": {},
   "outputs": [
    {
     "name": "stdout",
     "output_type": "stream",
     "text": [
      "(59, 2)\n",
      "(71, 2)\n",
      "(48, 2)\n"
     ]
    },
    {
     "data": {
      "text/plain": [
       "<matplotlib.text.Text at 0x7f7c9b504278>"
      ]
     },
     "execution_count": 8,
     "metadata": {},
     "output_type": "execute_result"
    },
    {
     "data": {
      "image/png": "[encoded data removed]",
      "text/plain": [
       "<matplotlib.figure.Figure at 0x7f7c9b545c18>"
      ]
     },
     "metadata": {
      "needs_background": "light"
     },
     "output_type": "display_data"
    }
   ],
   "source": [
    "center_data = samples - np.mean(samples, axis=0)[np.newaxis,:]\n",
    "comp = pca(center_data.T, dim=2)\n",
    "feat = center_data @ comp\n",
    "\n",
    "colors = ['r', 'g', 'b']\n",
    "markers = ['s', '^', 'o']\n",
    "\n",
    "for i, (c, m) in enumerate(zip(colors, markers)):\n",
    "    class_samp = feat[np.where(labels==i)]\n",
    "    print(class_samp.shape)\n",
    "    plt.scatter(class_samp[:,0], class_samp[:,1], c=c,marker=m)\n",
    "\n",
    "plt.title('centered data')"
   ]
  },
  {
   "cell_type": "code",
   "execution_count": 9,
   "metadata": {},
   "outputs": [
    {
     "name": "stdout",
     "output_type": "stream",
     "text": [
      "(59, 2)\n",
      "(71, 2)\n",
      "(48, 2)\n"
     ]
    },
    {
     "data": {
      "text/plain": [
       "<matplotlib.text.Text at 0x7f7c9b4f2048>"
      ]
     },
     "execution_count": 9,
     "metadata": {},
     "output_type": "execute_result"
    },
    {
     "data": {
      "image/png": "[encoded data removed]",
      "text/plain": [
       "<matplotlib.figure.Figure at 0x7f7c9b572908>"
      ]
     },
     "metadata": {
      "needs_background": "light"
     },
     "output_type": "display_data"
    }
   ],
   "source": [
    "variances = np.var(center_data, axis=0)[np.newaxis, :]\n",
    "std_data = center_data / np.sqrt(variances)\n",
    "comp = pca(std_data.T, dim=2)\n",
    "feat = std_data @ comp\n",
    "\n",
    "for i, (c, m) in enumerate(zip(colors, markers)):\n",
    "    class_samp = feat[np.where(labels==i)]\n",
    "    print(class_samp.shape)\n",
    "    plt.scatter(class_samp[:,0], class_samp[:,1], c=c,marker=m)\n",
    "\n",
    "plt.title('standardized data')"
   ]
  },
  {
   "cell_type": "markdown",
   "metadata": {},
   "source": [
    "The standardized data creates better PCA features. In the plot for standardized data, the classes appear to be much more separable."
   ]
  },
  {
   "cell_type": "markdown",
   "metadata": {},
   "source": [
    "# Naive Bayes Classification"
   ]
  },
  {
   "cell_type": "code",
   "execution_count": null,
   "metadata": {},
   "outputs": [],
   "source": [
    "class NaiveBayesClassifier:\n",
    "    \n",
    "    def __init__(data, labels, priors):\n",
    "        self.priors = priors\n",
    "        self.n_classes = len(priors)\n",
    "        self.means = np.zeros(self.n_classes)\n",
    "        self.variances = np.zeros(self.n_classes)\n",
    "        for i in range(self.n_classes):\n",
    "            class_data = data[np.where(labels==i)]\n",
    "            self.means[i] = np.average(class_data, axis=1)\n",
    "            self.variances[i] = np.var(class_data, axis=1)\n",
    "    \n",
    "    def classify(sample):\n",
    "        self.probs = np.copy(self.priors)\n",
    "        for i in range(self.n_classes):\n",
    "            for m, v in zip(self.means[i], self.variances[i]):\n",
    "                prob = 1/math.sqrt(2*math.pi*v)*math.exp()"
   ]
  }
 ],
 "metadata": {
  "kernelspec": {
   "display_name": "Python 3",
   "language": "python",
   "name": "python3"
  },
  "language_info": {
   "codemirror_mode": {
    "name": "ipython",
    "version": 3
   },
   "file_extension": ".py",
   "mimetype": "text/x-python",
   "name": "python",
   "nbconvert_exporter": "python",
   "pygments_lexer": "ipython3",
   "version": "3.5.2"
  }
 },
 "nbformat": 4,
 "nbformat_minor": 2
}

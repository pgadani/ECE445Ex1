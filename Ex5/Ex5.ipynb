{
 "cells": [
  {
   "cell_type": "code",
   "execution_count": 58,
   "metadata": {
    "collapsed": false
   },
   "outputs": [],
   "source": [
    "import numpy as np\n",
    "import math\n",
    "import matplotlib.pyplot as plt\n",
    "\n",
    "from numpy import linalg\n",
    "\n",
    "from sklearn.datasets import load_wine\n",
    "from sklearn.naive_bayes import GaussianNB\n",
    "\n",
    "samples, labels = load_wine(return_X_y=True)\n",
    "labels = np.array(labels)"
   ]
  },
  {
   "cell_type": "code",
   "execution_count": 2,
   "metadata": {
    "collapsed": true
   },
   "outputs": [],
   "source": [
    "# must set one of numPC or accuracy\n",
    "def pca(X, dim=None, accuracy=None):\n",
    "    u, d, v = linalg.svd(X)\n",
    "    if accuracy is not None:\n",
    "        energy = linalg.norm(X)**2\n",
    "        sumEig = 0\n",
    "        for i, eigval in enumerate(list(d)):\n",
    "            sumEig += eigval**2\n",
    "            if sumEig / energy >= accuracy:\n",
    "                dim = i + 1\n",
    "                break\n",
    "    return u[:, :dim]"
   ]
  },
  {
   "cell_type": "markdown",
   "metadata": {},
   "source": [
    "# Standardize Data"
   ]
  },
  {
   "cell_type": "code",
   "execution_count": 74,
   "metadata": {
    "collapsed": false
   },
   "outputs": [
    {
     "data": {
      "image/png": "[encoded data removed]",
      "text/plain": [
       "<matplotlib.figure.Figure at 0x1b18a04f5c0>"
      ]
     },
     "metadata": {},
     "output_type": "display_data"
    }
   ],
   "source": [
    "center_data = samples - np.mean(samples, axis=0)[np.newaxis,:]\n",
    "center_comp = pca(center_data.T, dim=2)\n",
    "center_feat = center_data @ center_comp\n",
    "\n",
    "colors = ['r', 'g', 'b']\n",
    "markers = ['s', '^', 'o']\n",
    "\n",
    "for i, (c, m) in enumerate(zip(colors, markers)):\n",
    "    class_samp = center_feat[np.where(labels==i)]\n",
    "    plt.scatter(class_samp[:,0], class_samp[:,1], c=c,marker=m)\n",
    "\n",
    "plt.title('centered data')\n",
    "plt.show()"
   ]
  },
  {
   "cell_type": "code",
   "execution_count": 77,
   "metadata": {
    "collapsed": false
   },
   "outputs": [
    {
     "data": {
      "image/png": "[encoded data removed]",
      "text/plain": [
       "<matplotlib.figure.Figure at 0x1b18a009128>"
      ]
     },
     "metadata": {},
     "output_type": "display_data"
    }
   ],
   "source": [
    "variances = np.var(center_data, axis=0)[np.newaxis, :]\n",
    "std_data = center_data / np.sqrt(variances)\n",
    "std_comp = pca(std_data.T, dim=2)\n",
    "std_feat = std_data @ std_comp\n",
    "\n",
    "for i, (c, m) in enumerate(zip(colors, markers)):\n",
    "    class_samp = std_feat[np.where(labels==i)]\n",
    "    plt.scatter(class_samp[:,0], class_samp[:,1], c=c,marker=m)\n",
    "\n",
    "plt.title('standardized data')\n",
    "plt.show()"
   ]
  },
  {
   "cell_type": "markdown",
   "metadata": {},
   "source": [
    "The standardized data creates better PCA features. In the plot for standardized data, the classes appear to be much more separable."
   ]
  },
  {
   "cell_type": "markdown",
   "metadata": {},
   "source": [
    "# Naive Bayes Classification"
   ]
  },
  {
   "cell_type": "code",
   "execution_count": 50,
   "metadata": {
    "collapsed": true
   },
   "outputs": [],
   "source": [
    "class NaiveBayesClassifier:\n",
    "    \n",
    "    def __init__(self, data, labels, priors):\n",
    "        self.priors = priors\n",
    "        self.n_classes = len(priors)\n",
    "        self.n_feat = data.shape[1]\n",
    "        self.means = np.zeros((self.n_classes, self.n_feat))\n",
    "        self.variances = np.zeros((self.n_classes, self.n_feat))\n",
    "        for i in range(self.n_classes):\n",
    "            class_data = data[np.where(labels==i)]\n",
    "            self.means[i] = np.average(class_data, axis=0)\n",
    "            self.variances[i] = np.var(class_data, axis=0)\n",
    "    \n",
    "    def classify(self, sample):\n",
    "        probs = np.copy(self.priors)\n",
    "        for i in range(self.n_classes):\n",
    "            for s, m, v in zip(sample, self.means[i], self.variances[i]):\n",
    "                prob = 1/math.sqrt(2*math.pi*v)*math.exp(-(s-m)**2/(2*v))\n",
    "                probs[i] *= prob\n",
    "        return np.argmax(probs)"
   ]
  },
  {
   "cell_type": "code",
   "execution_count": 81,
   "metadata": {
    "collapsed": false
   },
   "outputs": [
    {
     "name": "stdout",
     "output_type": "stream",
     "text": [
      "ACCURACIES:\n",
      "[[0.86111111 0.66666667 0.80555556 0.74285714 0.74285714]\n",
      " [0.94444444 1.         0.94444444 0.94285714 1.        ]\n",
      " [0.94444444 1.         0.94444444 0.94285714 1.        ]]\n",
      "MEANS\n",
      "[0.76380952 0.96634921 0.96634921]\n",
      "VARIANCES\n",
      "[0.00430501 0.00075525 0.00075525]\n"
     ]
    }
   ],
   "source": [
    "priors = np.array([1/3 for i in range(3)])[:, np.newaxis]\n",
    "\n",
    "indices = np.arange(len(labels))\n",
    "np.random.shuffle(indices)\n",
    "splits = np.array_split(indices, 5)\n",
    "\n",
    "accuracies = np.zeros((3, 5))\n",
    "\n",
    "for data_index, data in enumerate([center_feat, std_feat]):\n",
    "    for i in range(5):\n",
    "        test_data = data[splits[i],:]\n",
    "        train_data = np.delete(data, splits[i], axis=0)\n",
    "        train_labels = np.delete(labels, splits[i])\n",
    "        classifier = NaiveBayesClassifier(train_data, train_labels, priors)\n",
    "        err = 0\n",
    "        for f, l in zip(test_data, labels[splits[i]]):\n",
    "            res = classifier.classify(f)\n",
    "            if res != l:\n",
    "                err += 1\n",
    "        accuracies[data_index, i] = (len(splits[i]) - err) / len(splits[i])\n",
    "\n",
    "for i in range(5):\n",
    "    test_data = std_feat[splits[i],:]\n",
    "    train_data = np.delete(std_feat, splits[i], axis=0)\n",
    "    train_labels = np.delete(labels, splits[i])  \n",
    "    classifier = GaussianNB(priors=priors)\n",
    "    classifier.fit(train_data, train_labels)\n",
    "    err = 0\n",
    "    res = classifier.predict(test_data)\n",
    "    for r, l in zip(res, labels[splits[i]]):\n",
    "        if r != l:\n",
    "            err += 1\n",
    "    accuracies[2, i] = (len(splits[i]) - err) / len(splits[i])\n",
    "  \n",
    "print('ACCURACIES:')\n",
    "print(accuracies)\n",
    "print('MEANS')\n",
    "print(np.mean(accuracies, axis=1))\n",
    "print('VARIANCES')\n",
    "print(np.var(accuracies, axis=1))"
   ]
  },
  {
   "cell_type": "markdown",
   "metadata": {},
   "source": [
    "Case 2 and 3 are identical (yay!). Case 1 has a lower average accuracy and a higher variance since the PCA features are also affected by the size of each feature, not just the variance within its values"
   ]
  }
 ],
 "metadata": {
  "kernelspec": {
   "display_name": "Python 3",
   "language": "python",
   "name": "python3"
  },
  "language_info": {
   "codemirror_mode": {
    "name": "ipython",
    "version": 3
   },
   "file_extension": ".py",
   "mimetype": "text/x-python",
   "name": "python",
   "nbconvert_exporter": "python",
   "pygments_lexer": "ipython3",
   "version": "3.6.0"
  }
 },
 "nbformat": 4,
 "nbformat_minor": 2
}
